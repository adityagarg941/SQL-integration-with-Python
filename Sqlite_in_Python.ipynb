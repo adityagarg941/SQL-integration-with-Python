{
  "nbformat": 4,
  "nbformat_minor": 0,
  "metadata": {
    "colab": {
      "provenance": [],
      "authorship_tag": "ABX9TyNriWuQG0+Cs0aEWx1yAhC9",
      "include_colab_link": true
    },
    "kernelspec": {
      "name": "python3",
      "display_name": "Python 3"
    },
    "language_info": {
      "name": "python"
    }
  },
  "cells": [
    {
      "cell_type": "markdown",
      "metadata": {
        "id": "view-in-github",
        "colab_type": "text"
      },
      "source": [
        "<a href=\"https://colab.research.google.com/github/adityagarg941/SQL-integration-with-Python/blob/main/Sqlite_in_Python.ipynb\" target=\"_parent\"><img src=\"https://colab.research.google.com/assets/colab-badge.svg\" alt=\"Open In Colab\"/></a>"
      ]
    },
    {
      "cell_type": "code",
      "source": [
        "import sqlite3\n",
        "import pandas as pd\n",
        "import matplotlib.pyplot as plt"
      ],
      "metadata": {
        "id": "HNR7pnHVOGHk"
      },
      "execution_count": 3,
      "outputs": []
    },
    {
      "cell_type": "code",
      "source": [
        "df = pd.read_csv('/content/orders.csv')\n",
        "print(\"CSV Data:\")\n",
        "print(df)"
      ],
      "metadata": {
        "colab": {
          "base_uri": "https://localhost:8080/"
        },
        "id": "o2YhorZtSNa8",
        "outputId": "575bacd7-5381-43eb-857f-7c31ad61c7d9"
      },
      "execution_count": 5,
      "outputs": [
        {
          "output_type": "stream",
          "name": "stdout",
          "text": [
            "CSV Data:\n",
            "        Customer_ID Customer_Status  Order_Date Delivery_Date   Order_ID  \\\n",
            "0               579          Silver  2017-01-01    2017-01-07  123002578   \n",
            "1              7574          SILVER  2017-01-01    2017-01-05  123004074   \n",
            "2             28861            Gold  2017-01-01    2017-01-04  123000871   \n",
            "3             43796            Gold  2017-01-01    2017-01-06  123002851   \n",
            "4             54673            Gold  2017-01-01    2017-01-04  123003607   \n",
            "...             ...             ...         ...           ...        ...   \n",
            "185008        92467          SILVER  2021-12-31    2021-12-31  124433239   \n",
            "185009        92866          Silver  2021-12-31    2021-12-31  124436561   \n",
            "185010        92894          Silver  2021-12-31    2021-12-31  124434316   \n",
            "185011        93239            Gold  2021-12-31    2022-01-02  124436170   \n",
            "185012        93317          Silver  2021-12-31    2021-12-31  124434324   \n",
            "\n",
            "          Product_ID  Quantity  Total_Price  Cost_Price_Per_Unit  \n",
            "0       2.200000e+11         2         92.6                20.70  \n",
            "1       2.100000e+11         1         21.7                 9.95  \n",
            "2       2.300000e+11         1          1.7                 0.80  \n",
            "3       2.200000e+11         1         47.9                24.05  \n",
            "4       2.200000e+11         1         36.9                18.30  \n",
            "...              ...       ...          ...                  ...  \n",
            "185008  2.400000e+11         4         64.0                 6.35  \n",
            "185009  2.300000e+11         1         16.7                 7.25  \n",
            "185010  2.200000e+11         5        313.0                31.40  \n",
            "185011  2.200000e+11         2        271.6                68.00  \n",
            "185012  2.200000e+11         4         95.6                10.95  \n",
            "\n",
            "[185013 rows x 9 columns]\n"
          ]
        }
      ]
    },
    {
      "cell_type": "code",
      "source": [
        "conn = sqlite3.connect('ccdb.db')"
      ],
      "metadata": {
        "id": "i0RnpkUCStbs"
      },
      "execution_count": 6,
      "outputs": []
    },
    {
      "cell_type": "code",
      "source": [
        "df.to_sql('orders', conn, if_exists='replace', index=False)"
      ],
      "metadata": {
        "colab": {
          "base_uri": "https://localhost:8080/"
        },
        "id": "VccQwYWVSzfG",
        "outputId": "5b45225e-7c84-4d4b-f7aa-794c934a1683"
      },
      "execution_count": 7,
      "outputs": [
        {
          "output_type": "execute_result",
          "data": {
            "text/plain": [
              "185013"
            ]
          },
          "metadata": {},
          "execution_count": 7
        }
      ]
    },
    {
      "cell_type": "code",
      "source": [
        "query = '''\n",
        "SELECT\n",
        "    Product_ID,\n",
        "    COUNT(Order_ID) AS Total_qty,\n",
        "    SUM(Total_Price) AS Revenue\n",
        "FROM\n",
        "    orders\n",
        "GROUP BY\n",
        "    Product_ID\n",
        "'''\n",
        "orders_summary = pd.read_sql_query(query, conn)\n"
      ],
      "metadata": {
        "id": "z6bK4tdxS7PF"
      },
      "execution_count": 16,
      "outputs": []
    },
    {
      "cell_type": "code",
      "source": [
        "print(\"\\nOrders Summary:\")\n",
        "print(orders_summary)"
      ],
      "metadata": {
        "colab": {
          "base_uri": "https://localhost:8080/"
        },
        "id": "YRibi4nHT6Uz",
        "outputId": "250f3ba7-36a7-49fb-aeb3-d55549af9764"
      },
      "execution_count": 22,
      "outputs": [
        {
          "output_type": "stream",
          "name": "stdout",
          "text": [
            "\n",
            "Orders Summary:\n",
            "     Product_ID  Total_qty      Revenue\n",
            "0  2.100000e+11      17309  1028786.710\n",
            "1  2.200000e+11      64838  8135052.015\n",
            "2  2.300000e+11      26986  5688483.110\n",
            "3  2.400000e+11      44820  7506482.990\n",
            "4  2.410000e+11      31060  3282698.490\n"
          ]
        }
      ]
    },
    {
      "cell_type": "code",
      "source": [
        "import seaborn as sns"
      ],
      "metadata": {
        "id": "EZwDpB2xU9QZ"
      },
      "execution_count": 18,
      "outputs": []
    },
    {
      "cell_type": "code",
      "source": [
        "orders_summary.plot(kind='bar', x='Product_ID', y='Revenue', legend=False, color='skyblue')\n",
        "plt.xlabel('Product')\n",
        "plt.ylabel('Revenue')\n",
        "plt.title('Revenue by Product')\n",
        "plt.grid(True)\n",
        "plt.show()"
      ],
      "metadata": {
        "colab": {
          "base_uri": "https://localhost:8080/",
          "height": 576
        },
        "id": "eF0cdeLmUrLw",
        "outputId": "31554895-0fc6-4449-8f7e-9d93cec324cd"
      },
      "execution_count": 23,
      "outputs": [
        {
          "output_type": "display_data",
          "data": {
            "text/plain": [
              "<Figure size 640x480 with 1 Axes>"
            ],
            "image/png": "[encoded data removed]"
          },
          "metadata": {}
        }
      ]
    }
  ]
}